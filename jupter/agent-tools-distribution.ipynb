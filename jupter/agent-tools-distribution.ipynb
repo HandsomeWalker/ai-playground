{
 "cells": [
  {
   "cell_type": "markdown",
   "id": "773507bd",
   "metadata": {},
   "source": [
    "### 引入依赖"
   ]
  },
  {
   "cell_type": "code",
   "execution_count": null,
   "id": "d1a32080",
   "metadata": {},
   "outputs": [],
   "source": [
    "from autogen_core.models import ModelInfo\n",
    "from autogen_ext.models.ollama import OllamaChatCompletionClient\n",
    "from autogen_agentchat.agents import AssistantAgent\n",
    "from autogen_agentchat.ui import Console\n",
    "from autogen_ext.tools.mcp import StdioServerParams, mcp_server_tools\n",
    "from pathlib import Path"
   ]
  },
  {
   "cell_type": "markdown",
   "id": "5dd74496",
   "metadata": {},
   "source": [
    "### 获取mcp工具列表"
   ]
  },
  {
   "cell_type": "code",
   "execution_count": 42,
   "id": "9d731e40",
   "metadata": {},
   "outputs": [],
   "source": [
    "# 获取当前工作目录\n",
    "workdir = Path.cwd()\n",
    "server_path = workdir.parent / \"src\" / \"mcp-demo\" / \"server.py\"\n",
    "server_params = StdioServerParams(command=\"uv\", args=[\"run\", str(server_path)])\n",
    "tools = await mcp_server_tools(server_params)"
   ]
  },
  {
   "cell_type": "markdown",
   "id": "794f2c00",
   "metadata": {},
   "source": [
    "### 为agent分配工具"
   ]
  },
  {
   "cell_type": "code",
   "execution_count": null,
   "id": "d17d170f",
   "metadata": {},
   "outputs": [],
   "source": [
    "model_info = ModelInfo(\n",
    "    family=\"r1\", vision=False, function_calling=True, json_output=True\n",
    ")\n",
    "model_client = OllamaChatCompletionClient(model=\"llama3.1:8b\", model_info=model_info)\n",
    "\n",
    "\n",
    "class MyAssistant:\n",
    "    \"\"\"此助手角色只能进行货币转换\"\"\"\n",
    "    def __init__(self):\n",
    "        self.role = \"currency_convert_role\"\n",
    "        self.agent = AssistantAgent(\n",
    "            name=\"assistant\",\n",
    "            model_client=model_client,\n",
    "            tools=[tool for tool in tools if tool.name.startswith(\"currency\")],\n",
    "            system_message=\"你是一个乐于助人的助手，如果没有工具可调用，请回复：没有工具可调用。\",\n",
    "            reflect_on_tool_use=True,\n",
    "            model_client_stream=True,  # Enable streaming tokens from the model client.\n",
    "        )"
   ]
  },
  {
   "cell_type": "markdown",
   "id": "e700a80d",
   "metadata": {},
   "source": [
    "### 开始任务"
   ]
  },
  {
   "cell_type": "code",
   "execution_count": 44,
   "id": "8be14d9e",
   "metadata": {},
   "outputs": [
    {
     "name": "stdout",
     "output_type": "stream",
     "text": [
      "---------- TextMessage (user) ----------\n",
      "杭州今天适合出游吗\n",
      "---------- ModelClientStreamingChunkEvent (assistant) ----------\n",
      "没有工具可调用，请重新提问。\n",
      "[Prompt tokens: 194, Completion tokens: 0]\n",
      "---------- ToolCallExecutionEvent (assistant) ----------\n",
      "[]\n",
      "---------- ModelClientStreamingChunkEvent (assistant) ----------\n",
      "没有杭州市的天气预报信息，无法准确判断杭州今天是否适合出游。\n",
      "[Prompt tokens: 49, Completion tokens: 25]\n",
      "---------- Summary ----------\n",
      "Number of messages: 4\n",
      "Finish reason: None\n",
      "Total prompt tokens: 243\n",
      "Total completion tokens: 25\n",
      "Duration: 2.89 seconds\n",
      "---------- TextMessage (user) ----------\n",
      "使用最新汇率将34美元转换成人民币\n",
      "---------- ToolCallRequestEvent (assistant) ----------\n",
      "[FunctionCall(id='0', arguments='{\"request\": {\"amount\": 34, \"from_currency\": \"USD\", \"to_currency\": \"CNY\"}}', name='currency_converter')]\n",
      "[Prompt tokens: 240, Completion tokens: 43]\n",
      "---------- ToolCallExecutionEvent (assistant) ----------\n",
      "[FunctionExecutionResult(content='[{\"type\": \"text\", \"text\": \"{\\\\n  \\\\\"amount\\\\\": 34.0,\\\\n  \\\\\"converted\\\\\": 245.82,\\\\n  \\\\\"rate\\\\\": 7.23,\\\\n  \\\\\"timestamp\\\\\": \\\\\"2025-05-13\\\\\"\\\\n}\", \"annotations\": null}]', name='currency_converter', call_id='0', is_error=False)]\n",
      "---------- ModelClientStreamingChunkEvent (assistant) ----------\n",
      "根据汇率，34美元约相当于人民币245.82。\n",
      "[Prompt tokens: 197, Completion tokens: 16]\n",
      "---------- Summary ----------\n",
      "Number of messages: 4\n",
      "Finish reason: None\n",
      "Total prompt tokens: 437\n",
      "Total completion tokens: 59\n",
      "Duration: 5.09 seconds\n"
     ]
    }
   ],
   "source": [
    "async def main() -> None:\n",
    "    myAssistant = MyAssistant()\n",
    "    await Console(myAssistant.agent.run_stream(task=\"杭州今天适合出游吗\"), output_stats=True)\n",
    "    await Console(myAssistant.agent.run_stream(task=\"使用最新汇率将34美元转换成人民币\"), output_stats=True)\n",
    "    # Close the connection to the model client.\n",
    "    await model_client.close()\n",
    "\n",
    "\n",
    "await main()"
   ]
  }
 ],
 "metadata": {
  "kernelspec": {
   "display_name": "ai-playground",
   "language": "python",
   "name": "python3"
  },
  "language_info": {
   "codemirror_mode": {
    "name": "ipython",
    "version": 3
   },
   "file_extension": ".py",
   "mimetype": "text/x-python",
   "name": "python",
   "nbconvert_exporter": "python",
   "pygments_lexer": "ipython3",
   "version": "3.12.9"
  }
 },
 "nbformat": 4,
 "nbformat_minor": 5
}
