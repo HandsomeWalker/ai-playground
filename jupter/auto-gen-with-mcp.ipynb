{
 "cells": [
  {
   "cell_type": "code",
   "execution_count": 11,
   "id": "0bd8b38b",
   "metadata": {},
   "outputs": [
    {
     "name": "stdout",
     "output_type": "stream",
     "text": [
      "---------- TextMessage (user) ----------\n",
      "深圳的天气适合出游吗\n",
      "---------- ToolCallRequestEvent (weather_agent) ----------\n",
      "[FunctionCall(id='0', arguments='{\"city\": \"\\\\u6df1\\\\u5733\"}', name='get_weather')]\n",
      "[Prompt tokens: 200, Completion tokens: 131]\n",
      "---------- ToolCallExecutionEvent (weather_agent) ----------\n",
      "[FunctionExecutionResult(content='[{\"type\": \"text\", \"text\": \"{\\\\n  \\\\\"temperature\\\\\": 26,\\\\n  \\\\\"condition\\\\\": \\\\\"\\\\u5c0f\\\\u96e8\\\\\"\\\\n}\", \"annotations\": null}]', name='get_weather', call_id='0', is_error=False)]\n",
      "---------- ModelClientStreamingChunkEvent (weather_agent) ----------\n",
      "<think>\n",
      "好的，我现在需要处理用户的问题：“深圳的天气适合出游吗”。首先，用户之前已经询问过这个问题，我调用了天气接口获取了深圳的天气情况，返回的数据显示温度是26度，天气是小雨。现在用户可能再次询问或者需要进一步的建议。\n",
      "\n",
      "首先，我要确认当前的天气数据是否仍然适用。因为天气可能会变化，但假设用户现在再次询问，可能希望得到更详细的建议或者确认之前的天气情况。不过根据之前的回复，温度26度，小雨，这样的天气是否适合出游呢？\n",
      "\n",
      "接下来，我需要分析天气状况对出游的影响。温度26度属于舒适范围，但小雨可能会影响户外活动。需要考虑用户可能的活动类型，比如是否带伞、是否需要改期等。此外，可能还需要提供一些建议，比如建议携带雨具，选择室内景点，或者推荐雨天适合的活动。\n",
      "\n",
      "另外，用户可能没有明确说明他们计划去的具体景点，所以需要给出一般性的建议，同时提醒他们注意天气变化。如果有其他天气因素，比如湿度、风速等，可能也需要考虑，但当前数据中没有提供这些信息，所以可能需要基于已有信息进行回答。\n",
      "\n",
      "还需要检查之前的回复是否有误，比如天气数据是否正确，是否有可能的错误。比如，小雨是否会影响出行，或者是否有其他因素需要考虑。同时，要确保回答的语气友好，提供有用的信息，帮助用户做出决定。\n",
      "\n",
      "总结下来，回答需要包括当前天气情况，分析是否适合出游，并给出相应的建议。可能需要提醒用户带伞，选择合适的活动，或者考虑天气变化的可能性。\n",
      "</think>\n",
      "\n",
      "深圳当前天气为26℃，小雨。这种天气适合出游，但建议您：\n",
      "\n",
      "1. **携带雨具**：小雨可能持续，随身带伞或雨衣更安心；\n",
      "2. **选择室内景点**：如博物馆、商场、科技馆等，避免长时间户外活动；\n",
      "3. **注意防滑**：路面可能湿滑，穿防滑鞋更安全；\n",
      "4. **灵活调整计划**：若雨势增大，可考虑改期或选择室内活动。\n",
      "\n",
      "总体而言，天气舒适但需注意防雨，合理安排行程即可。\n",
      "[Prompt tokens: 102, Completion tokens: 468]\n",
      "---------- Summary ----------\n",
      "Number of messages: 4\n",
      "Finish reason: None\n",
      "Total prompt tokens: 302\n",
      "Total completion tokens: 599\n",
      "Duration: 61.37 seconds\n"
     ]
    }
   ],
   "source": [
    "from autogen_core.models import ModelInfo\n",
    "from autogen_ext.models.ollama import OllamaChatCompletionClient\n",
    "from autogen_agentchat.agents import AssistantAgent\n",
    "from autogen_agentchat.ui import Console\n",
    "from autogen_ext.tools.mcp import StdioServerParams, mcp_server_tools\n",
    "from pathlib import Path\n",
    "\n",
    "model_info = ModelInfo(\n",
    "    family=\"r1\", vision=False, function_calling=True, json_output=True\n",
    ")\n",
    "model_client = OllamaChatCompletionClient(model=\"qwen3:14b\", model_info=model_info)\n",
    "# 获取当前工作目录\n",
    "workdir = Path.cwd()\n",
    "\n",
    "server_path = workdir.parent / \"src\" / \"mcp-demo\" / \"server.py\"\n",
    "server_params = StdioServerParams(\n",
    "    command=\"uv\",\n",
    "    args=[\"run\", str(server_path)]\n",
    ")\n",
    "tools = await mcp_server_tools(server_params)\n",
    "\n",
    "agent = AssistantAgent(\n",
    "    name=\"weather_agent\",\n",
    "    model_client=model_client,\n",
    "    tools=tools,\n",
    "    system_message=\"You are a helpful assistant.\",\n",
    "    reflect_on_tool_use=True,\n",
    "    model_client_stream=True,  # Enable streaming tokens from the model client.\n",
    ")\n",
    "\n",
    "\n",
    "async def main() -> None:\n",
    "    await Console(agent.run_stream(task=\"深圳的天气适合出游吗\"), output_stats=True)\n",
    "    # Close the connection to the model client.\n",
    "    await model_client.close()\n",
    "\n",
    "\n",
    "await main()"
   ]
  }
 ],
 "metadata": {
  "kernelspec": {
   "display_name": ".venv",
   "language": "python",
   "name": "python3"
  },
  "language_info": {
   "codemirror_mode": {
    "name": "ipython",
    "version": 3
   },
   "file_extension": ".py",
   "mimetype": "text/x-python",
   "name": "python",
   "nbconvert_exporter": "python",
   "pygments_lexer": "ipython3",
   "version": "3.12.9"
  }
 },
 "nbformat": 4,
 "nbformat_minor": 5
}
