{
 "cells": [
  {
   "cell_type": "code",
   "execution_count": 3,
   "id": "60fa1a56",
   "metadata": {},
   "outputs": [
    {
     "name": "stdout",
     "output_type": "stream",
     "text": [
      "---------- TextMessage (user) ----------\n",
      "成都的天气适合出游吗\n",
      "---------- ToolCallRequestEvent (weather_agent) ----------\n",
      "[FunctionCall(id='0', arguments='{\"city\": \"\\\\u6210\\\\u90fd\"}', name='get_weather')]\n",
      "[Prompt tokens: 151, Completion tokens: 103]\n",
      "---------- ToolCallExecutionEvent (weather_agent) ----------\n",
      "[FunctionExecutionResult(content='成都的天气是9摄氏度，小雨', name='get_weather', call_id='0', is_error=False)]\n",
      "---------- ModelClientStreamingChunkEvent (weather_agent) ----------\n",
      "<think>\n",
      "好的，用户问成都的天气是否适合出游，我需要先查看天气数据。根据之前的回复，成都现在是9摄氏度，小雨。首先，温度方面，9度属于较低温度，可能需要穿厚衣服，但成都的气候通常比较湿润，所以小雨可能让天气感觉更冷。小雨可能会影响户外活动，比如打伞或者地面湿滑，但成都作为旅游城市，很多景点可能都有应对措施，比如有遮雨的地方或者室内景点。\n",
      "\n",
      "接下来要考虑用户的需求。用户可能计划去成都旅游，想知道现在是否适合出行。需要分析天气对旅游的影响。小雨可能让一些户外景点不太方便，但像宽窄巷子、锦里这样的地方可能不受影响，或者游客可能会更少，反而更安静。另外，成都的美食是吸引点之一，下雨天可能更适合去餐馆，但需要考虑交通是否方便。\n",
      "\n",
      "还要考虑用户可能的深层需求。用户可能担心天气影响行程，或者是否需要调整计划。比如是否需要带雨具，或者是否推荐室内景点。此外，用户可能没有明确说明出行时间，是否是短期旅行，是否需要建议其他天气更好的时间。\n",
      "\n",
      "另外，成都的气候特点，比如多雾、潮湿，可能会影响体验，但这也是当地特色之一。需要平衡天气的不利因素和旅游的便利性。可能需要建议用户如果喜欢雨天的氛围，可以去一些有特色的景点，或者调整行程到更晴朗的日子。\n",
      "\n",
      "最后，综合这些因素，给出一个全面的回答，既指出天气的现状，也给出建议，让用户根据自己的情况决定是否出游，或者如何准备。\n",
      "</think>\n",
      "\n",
      "根据当前天气情况，成都气温9℃，伴有小雨。这种天气对出游的影响如下：\n",
      "\n",
      "**适合的方面：**\n",
      "1. **气温适宜**：9℃属于凉爽天气，适合穿厚外套、毛衣等保暖衣物，不会感到过于炎热。\n",
      "2. **雨景氛围**：小雨天气可增添成都的文艺气息，如宽窄巷子、锦里古街等景点在雨中别有一番韵味。\n",
      "3. **避开人流高峰**：雨天可能减少部分游客，适合喜欢安静游览的游客。\n",
      "\n",
      "**需要注意的方面：**\n",
      "1. **携带雨具**：需准备雨伞或雨衣，地面湿滑需注意安全。\n",
      "2. **户外活动受限**：如计划登山、骑行等户外活动，建议改期或选择室内景点（如博物馆、成都大熊猫繁育研究基地室内区域）。\n",
      "3. **保暖措施**：早晚温差较大，需注意添衣，避免感冒。\n",
      "\n",
      "**建议：**\n",
      "- 若行程灵活，可考虑调整到晴天出行，但雨天成都的市井烟火气（如茶馆、火锅店）更值得体验。\n",
      "- 若坚持出行，推荐选择室内景点、美食街区（如春熙路、IFS）或体验成都的茶文化（如鹤鸣茶社）。\n",
      "\n",
      "总体而言，小雨天气虽略有不便，但成都的包容性气候与丰富旅游资源仍能提供独特的体验。\n",
      "[Prompt tokens: 68, Completion tokens: 647]\n",
      "---------- Summary ----------\n",
      "Number of messages: 4\n",
      "Finish reason: None\n",
      "Total prompt tokens: 219\n",
      "Total completion tokens: 750\n",
      "Duration: 89.07 seconds\n"
     ]
    }
   ],
   "source": [
    "from autogen_core.models import ModelInfo\n",
    "from autogen_ext.models.ollama import OllamaChatCompletionClient\n",
    "from autogen_agentchat.agents import AssistantAgent\n",
    "from autogen_agentchat.ui import Console\n",
    "\n",
    "model_info = ModelInfo(\n",
    "    family=\"r1\", vision=False, function_calling=True, json_output=True\n",
    ")\n",
    "model_client = OllamaChatCompletionClient(model=\"qwen3:14b\", model_info=model_info)\n",
    "\n",
    "\n",
    "async def get_weather(city: str) -> str:\n",
    "    \"\"\"Get the weather for a given city.\"\"\"\n",
    "    return f\"{city}的天气是9摄氏度，小雨\"\n",
    "\n",
    "\n",
    "agent = AssistantAgent(\n",
    "    name=\"weather_agent\",\n",
    "    model_client=model_client,\n",
    "    tools=[get_weather],\n",
    "    system_message=\"You are a helpful assistant.\",\n",
    "    reflect_on_tool_use=True,\n",
    "    model_client_stream=True,  # Enable streaming tokens from the model client.\n",
    ")\n",
    "\n",
    "\n",
    "async def main() -> None:\n",
    "    await Console(agent.run_stream(task=\"成都的天气适合出游吗\"), output_stats=True)\n",
    "    # Close the connection to the model client.\n",
    "    await model_client.close()\n",
    "\n",
    "\n",
    "await main()"
   ]
  }
 ],
 "metadata": {
  "kernelspec": {
   "display_name": ".venv",
   "language": "python",
   "name": "python3"
  },
  "language_info": {
   "codemirror_mode": {
    "name": "ipython",
    "version": 3
   },
   "file_extension": ".py",
   "mimetype": "text/x-python",
   "name": "python",
   "nbconvert_exporter": "python",
   "pygments_lexer": "ipython3",
   "version": "3.12.9"
  }
 },
 "nbformat": 4,
 "nbformat_minor": 5
}
